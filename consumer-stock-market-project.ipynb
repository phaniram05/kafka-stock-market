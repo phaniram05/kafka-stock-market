{
 "cells": [
  {
   "cell_type": "code",
   "execution_count": 1,
   "id": "ee84325c",
   "metadata": {},
   "outputs": [],
   "source": [
    "import pandas as pd\n",
    "from kafka import KafkaConsumer\n",
    "from time import sleep\n",
    "from json import dumps, loads\n",
    "import json\n",
    "from s3fs import S3FileSystem"
   ]
  },
  {
   "cell_type": "code",
   "execution_count": 2,
   "id": "259730e7",
   "metadata": {},
   "outputs": [],
   "source": [
    "consumer = KafkaConsumer(\n",
    "                'topic_name',\n",
    "                bootstrap_servers = ['18.234.40.54:9092'],\n",
    "                value_deserializer = lambda x: loads(x.decode('utf-8'))\n",
    "            )"
   ]
  },
  {
   "cell_type": "code",
   "execution_count": 3,
   "id": "6d869387",
   "metadata": {},
   "outputs": [],
   "source": [
    "# for c in consumer:\n",
    "#     print(c.value)"
   ]
  },
  {
   "cell_type": "code",
   "execution_count": 4,
   "id": "76898fc5",
   "metadata": {},
   "outputs": [],
   "source": [
    "# !pip install s3fs"
   ]
  },
  {
   "cell_type": "code",
   "execution_count": 5,
   "id": "0fb095d6",
   "metadata": {},
   "outputs": [],
   "source": [
    "# setup aws creds using \"aws configure\""
   ]
  },
  {
   "cell_type": "code",
   "execution_count": 6,
   "id": "74d4fc55",
   "metadata": {},
   "outputs": [],
   "source": [
    "s3 = S3FileSystem()"
   ]
  },
  {
   "cell_type": "code",
   "execution_count": 8,
   "id": "25cd1a06",
   "metadata": {},
   "outputs": [
    {
     "name": "stdout",
     "output_type": "stream",
     "text": [
      "0\n",
      "[{'Index': 'N225', 'Date': '1999-03-11', 'Open': 15485.42969, 'High': 15840.23047, 'Low': 15417.03027, 'Close': 15502.13965, 'Adj Close': 15502.13965, 'Volume': 0.0, 'CloseUSD': 155.0213965}]\n",
      "1\n",
      "[{'Index': 'NYA', 'Date': '1966-11-11', 'Open': 467.25, 'High': 467.25, 'Low': 467.25, 'Close': 467.25, 'Adj Close': 467.25, 'Volume': 0.0, 'CloseUSD': 467.25}]\n",
      "2\n",
      "[{'Index': 'NYA', 'Date': '2013-12-16', 'Open': 9997.200195, 'High': 10050.71973, 'Low': 9997.200195, 'Close': 10024.96973, 'Adj Close': 10024.96973, 'Volume': 3209890000.0, 'CloseUSD': 10024.96973}]\n",
      "3\n",
      "[{'Index': 'N100', 'Date': '2003-06-04', 'Open': 525.849976, 'High': 528.840027, 'Low': 523.200012, 'Close': 528.23999, 'Adj Close': 528.23999, 'Volume': 0.0, 'CloseUSD': 644.4527878}]\n",
      "4\n",
      "[{'Index': '000001.SS', 'Date': '2016-06-02', 'Open': 2911.218994, 'High': 2925.669922, 'Low': 2906.523926, 'Close': 2925.229004, 'Adj Close': 2925.229004, 'Volume': 159700.0, 'CloseUSD': 468.03664064}]\n",
      "5\n",
      "[{'Index': 'HSI', 'Date': '1993-05-05', 'Open': 6821.299805, 'High': 6856.5, 'Low': 6771.399902, 'Close': 6829.299805, 'Adj Close': 6829.299805, 'Volume': 0.0, 'CloseUSD': 887.80897465}]\n",
      "6\n",
      "[{'Index': 'NYA', 'Date': '2002-01-08', 'Open': 6235.430176, 'High': 6235.430176, 'Low': 6235.430176, 'Close': 6235.430176, 'Adj Close': 6235.430176, 'Volume': 1258800000.0, 'CloseUSD': 6235.430176}]\n",
      "7\n",
      "[{'Index': 'J203.JO', 'Date': '2013-02-12', 'Open': 40832.67188, 'High': 40867.57031, 'Low': 40649.53906, 'Close': 40700.44922, 'Adj Close': 40700.44922, 'Volume': 0.0, 'CloseUSD': 2849.0314454000004}]\n",
      "8\n",
      "[{'Index': 'N225', 'Date': '2019-10-28', 'Open': 22854.43945, 'High': 22896.2207, 'Low': 22830.57031, 'Close': 22867.26953, 'Adj Close': 22867.26953, 'Volume': 48100000.0, 'CloseUSD': 228.6726953}]\n",
      "9\n",
      "[{'Index': 'N100', 'Date': '2007-03-09', 'Open': 962.909973, 'High': 967.76001, 'Low': 956.669983, 'Close': 966.200012, 'Adj Close': 966.200012, 'Volume': 374708700.0, 'CloseUSD': 1178.76401464}]\n",
      "10\n",
      "[{'Index': 'TWII', 'Date': '2018-01-24', 'Open': 11228.70996, 'High': 11228.70996, 'Low': 11107.32031, 'Close': 11152.16016, 'Adj Close': 11152.16016, 'Volume': 3171100.0, 'CloseUSD': 446.0864064}]\n",
      "11\n",
      "[{'Index': 'NYA', 'Date': '1984-04-16', 'Open': 962.210022, 'High': 962.210022, 'Low': 962.210022, 'Close': 962.210022, 'Adj Close': 962.210022, 'Volume': 0.0, 'CloseUSD': 962.210022}]\n",
      "12\n",
      "[{'Index': 'NYA', 'Date': '1985-01-24', 'Open': 1078.839966, 'High': 1078.839966, 'Low': 1078.839966, 'Close': 1078.839966, 'Adj Close': 1078.839966, 'Volume': 0.0, 'CloseUSD': 1078.839966}]\n",
      "13\n",
      "[{'Index': 'GDAXI', 'Date': '2017-09-13', 'Open': 12489.25, 'High': 12565.84961, 'Low': 12489.25, 'Close': 12553.57031, 'Adj Close': 12553.57031, 'Volume': 79884400.0, 'CloseUSD': 15315.3557782}]\n",
      "14\n",
      "[{'Index': 'IXIC', 'Date': '2018-06-28', 'Open': 7438.109863, 'High': 7526.069824, 'Low': 7419.560059, 'Close': 7503.680176, 'Adj Close': 7503.680176, 'Volume': 2195400000.0, 'CloseUSD': 7503.680176}]\n",
      "15\n",
      "[{'Index': 'SSMI', 'Date': '2000-07-10', 'Open': 7926.299805, 'High': 7931.899902, 'Low': 7874.299805, 'Close': 7911.100098, 'Adj Close': 7911.100098, 'Volume': 0.0, 'CloseUSD': 8781.321108780001}]\n",
      "16\n",
      "[{'Index': 'TWII', 'Date': '2000-05-23', 'Open': 8811.44043, 'High': 8820.730469, 'Low': 8634.730469, 'Close': 8671.009766, 'Adj Close': 8670.977539, 'Volume': 0.0, 'CloseUSD': 346.84039063999995}]\n",
      "17\n",
      "[{'Index': '399001.SZ', 'Date': '2019-05-09', 'Open': 8919.5, 'High': 9012.240234, 'Low': 8860.169922, 'Close': 8877.30957, 'Adj Close': 8877.30957, 'Volume': 101700.0, 'CloseUSD': 1420.3695312}]\n",
      "18\n",
      "[{'Index': '399001.SZ', 'Date': '2000-04-13', 'Open': 4537.459961, 'High': 4615.470215, 'Low': 4528.589844, 'Close': 4601.470215, 'Adj Close': 4601.418457, 'Volume': 0.0, 'CloseUSD': 736.2352344000001}]\n",
      "19\n",
      "[{'Index': 'HSI', 'Date': '1998-08-14', 'Open': 6649.450195, 'High': 7271.75, 'Low': 6643.569824, 'Close': 7224.689941, 'Adj Close': 7224.689941, 'Volume': 0.0, 'CloseUSD': 939.20969233}]\n",
      "20\n",
      "[{'Index': 'HSI', 'Date': '2017-07-27', 'Open': 27002.69922, 'High': 27169.15039, 'Low': 26962.0293, 'Close': 27131.16992, 'Adj Close': 27131.16992, 'Volume': 1763945900.0, 'CloseUSD': 3527.0520896000003}]\n",
      "21\n",
      "[{'Index': 'NYA', 'Date': '1996-03-19', 'Open': 3685.469971, 'High': 3685.469971, 'Low': 3685.469971, 'Close': 3685.469971, 'Adj Close': 3685.469971, 'Volume': 0.0, 'CloseUSD': 3685.469971}]\n",
      "22\n",
      "[{'Index': 'IXIC', 'Date': '2009-02-23', 'Open': 1452.579956, 'High': 1452.579956, 'Low': 1386.680054, 'Close': 1387.719971, 'Adj Close': 1387.719971, 'Volume': 1977740000.0, 'CloseUSD': 1387.719971}]\n",
      "23\n",
      "[{'Index': 'NSEI', 'Date': '2020-08-31', 'Open': 11777.54981, 'High': 11794.25, 'Low': 11325.84961, 'Close': 11387.5, 'Adj Close': 11387.5, 'Volume': 1371800.0, 'CloseUSD': 113.875}]\n",
      "24\n",
      "[{'Index': 'GDAXI', 'Date': '1993-10-13', 'Open': 1999.599976, 'High': 1999.599976, 'Low': 1999.599976, 'Close': 1999.599976, 'Adj Close': 1999.599976, 'Volume': 0.0, 'CloseUSD': 2439.51197072}]\n",
      "25\n",
      "[{'Index': 'GSPTSE', 'Date': '1997-01-20', 'Open': 6126.399902, 'High': 6126.399902, 'Low': 6110.799805, 'Close': 6113.899902, 'Adj Close': 6113.899902, 'Volume': 117200000.0, 'CloseUSD': 5074.53691866}]\n",
      "26\n",
      "[{'Index': 'GDAXI', 'Date': '1989-04-06', 'Open': 1351.47998, 'High': 1351.47998, 'Low': 1351.47998, 'Close': 1351.47998, 'Adj Close': 1351.47998, 'Volume': 0.0, 'CloseUSD': 1648.8055756}]\n"
     ]
    },
    {
     "ename": "KeyboardInterrupt",
     "evalue": "",
     "output_type": "error",
     "traceback": [
      "\u001b[0;31m---------------------------------------------------------------------------\u001b[0m",
      "\u001b[0;31mKeyboardInterrupt\u001b[0m                         Traceback (most recent call last)",
      "Input \u001b[0;32mIn [8]\u001b[0m, in \u001b[0;36m<cell line: 1>\u001b[0;34m()\u001b[0m\n\u001b[0;32m----> 1\u001b[0m \u001b[38;5;28;01mfor\u001b[39;00m count, i \u001b[38;5;129;01min\u001b[39;00m \u001b[38;5;28menumerate\u001b[39m(consumer):\n\u001b[1;32m      2\u001b[0m     \u001b[38;5;28mprint\u001b[39m(count)\n\u001b[1;32m      3\u001b[0m     \u001b[38;5;28mprint\u001b[39m(i\u001b[38;5;241m.\u001b[39mvalue)\n",
      "File \u001b[0;32m/opt/miniconda3/lib/python3.9/site-packages/kafka/consumer/group.py:1193\u001b[0m, in \u001b[0;36mKafkaConsumer.__next__\u001b[0;34m(self)\u001b[0m\n\u001b[1;32m   1191\u001b[0m     \u001b[38;5;28;01mreturn\u001b[39;00m \u001b[38;5;28mself\u001b[39m\u001b[38;5;241m.\u001b[39mnext_v1()\n\u001b[1;32m   1192\u001b[0m \u001b[38;5;28;01melse\u001b[39;00m:\n\u001b[0;32m-> 1193\u001b[0m     \u001b[38;5;28;01mreturn\u001b[39;00m \u001b[38;5;28;43mself\u001b[39;49m\u001b[38;5;241;43m.\u001b[39;49m\u001b[43mnext_v2\u001b[49m\u001b[43m(\u001b[49m\u001b[43m)\u001b[49m\n",
      "File \u001b[0;32m/opt/miniconda3/lib/python3.9/site-packages/kafka/consumer/group.py:1201\u001b[0m, in \u001b[0;36mKafkaConsumer.next_v2\u001b[0;34m(self)\u001b[0m\n\u001b[1;32m   1199\u001b[0m     \u001b[38;5;28mself\u001b[39m\u001b[38;5;241m.\u001b[39m_iterator \u001b[38;5;241m=\u001b[39m \u001b[38;5;28mself\u001b[39m\u001b[38;5;241m.\u001b[39m_message_generator_v2()\n\u001b[1;32m   1200\u001b[0m \u001b[38;5;28;01mtry\u001b[39;00m:\n\u001b[0;32m-> 1201\u001b[0m     \u001b[38;5;28;01mreturn\u001b[39;00m \u001b[38;5;28;43mnext\u001b[39;49m\u001b[43m(\u001b[49m\u001b[38;5;28;43mself\u001b[39;49m\u001b[38;5;241;43m.\u001b[39;49m\u001b[43m_iterator\u001b[49m\u001b[43m)\u001b[49m\n\u001b[1;32m   1202\u001b[0m \u001b[38;5;28;01mexcept\u001b[39;00m \u001b[38;5;167;01mStopIteration\u001b[39;00m:\n\u001b[1;32m   1203\u001b[0m     \u001b[38;5;28mself\u001b[39m\u001b[38;5;241m.\u001b[39m_iterator \u001b[38;5;241m=\u001b[39m \u001b[38;5;28;01mNone\u001b[39;00m\n",
      "File \u001b[0;32m/opt/miniconda3/lib/python3.9/site-packages/kafka/consumer/group.py:1116\u001b[0m, in \u001b[0;36mKafkaConsumer._message_generator_v2\u001b[0;34m(self)\u001b[0m\n\u001b[1;32m   1114\u001b[0m \u001b[38;5;28;01mdef\u001b[39;00m \u001b[38;5;21m_message_generator_v2\u001b[39m(\u001b[38;5;28mself\u001b[39m):\n\u001b[1;32m   1115\u001b[0m     timeout_ms \u001b[38;5;241m=\u001b[39m \u001b[38;5;241m1000\u001b[39m \u001b[38;5;241m*\u001b[39m (\u001b[38;5;28mself\u001b[39m\u001b[38;5;241m.\u001b[39m_consumer_timeout \u001b[38;5;241m-\u001b[39m time\u001b[38;5;241m.\u001b[39mtime())\n\u001b[0;32m-> 1116\u001b[0m     record_map \u001b[38;5;241m=\u001b[39m \u001b[38;5;28;43mself\u001b[39;49m\u001b[38;5;241;43m.\u001b[39;49m\u001b[43mpoll\u001b[49m\u001b[43m(\u001b[49m\u001b[43mtimeout_ms\u001b[49m\u001b[38;5;241;43m=\u001b[39;49m\u001b[43mtimeout_ms\u001b[49m\u001b[43m,\u001b[49m\u001b[43m \u001b[49m\u001b[43mupdate_offsets\u001b[49m\u001b[38;5;241;43m=\u001b[39;49m\u001b[38;5;28;43;01mFalse\u001b[39;49;00m\u001b[43m)\u001b[49m\n\u001b[1;32m   1117\u001b[0m     \u001b[38;5;28;01mfor\u001b[39;00m tp, records \u001b[38;5;129;01min\u001b[39;00m six\u001b[38;5;241m.\u001b[39miteritems(record_map):\n\u001b[1;32m   1118\u001b[0m         \u001b[38;5;66;03m# Generators are stateful, and it is possible that the tp / records\u001b[39;00m\n\u001b[1;32m   1119\u001b[0m         \u001b[38;5;66;03m# here may become stale during iteration -- i.e., we seek to a\u001b[39;00m\n\u001b[1;32m   1120\u001b[0m         \u001b[38;5;66;03m# different offset, pause consumption, or lose assignment.\u001b[39;00m\n\u001b[1;32m   1121\u001b[0m         \u001b[38;5;28;01mfor\u001b[39;00m record \u001b[38;5;129;01min\u001b[39;00m records:\n\u001b[1;32m   1122\u001b[0m             \u001b[38;5;66;03m# is_fetchable(tp) should handle assignment changes and offset\u001b[39;00m\n\u001b[1;32m   1123\u001b[0m             \u001b[38;5;66;03m# resets; for all other changes (e.g., seeks) we'll rely on the\u001b[39;00m\n\u001b[1;32m   1124\u001b[0m             \u001b[38;5;66;03m# outer function destroying the existing iterator/generator\u001b[39;00m\n\u001b[1;32m   1125\u001b[0m             \u001b[38;5;66;03m# via self._iterator = None\u001b[39;00m\n",
      "File \u001b[0;32m/opt/miniconda3/lib/python3.9/site-packages/kafka/consumer/group.py:655\u001b[0m, in \u001b[0;36mKafkaConsumer.poll\u001b[0;34m(self, timeout_ms, max_records, update_offsets)\u001b[0m\n\u001b[1;32m    653\u001b[0m remaining \u001b[38;5;241m=\u001b[39m timeout_ms\n\u001b[1;32m    654\u001b[0m \u001b[38;5;28;01mwhile\u001b[39;00m \u001b[38;5;28;01mTrue\u001b[39;00m:\n\u001b[0;32m--> 655\u001b[0m     records \u001b[38;5;241m=\u001b[39m \u001b[38;5;28;43mself\u001b[39;49m\u001b[38;5;241;43m.\u001b[39;49m\u001b[43m_poll_once\u001b[49m\u001b[43m(\u001b[49m\u001b[43mremaining\u001b[49m\u001b[43m,\u001b[49m\u001b[43m \u001b[49m\u001b[43mmax_records\u001b[49m\u001b[43m,\u001b[49m\u001b[43m \u001b[49m\u001b[43mupdate_offsets\u001b[49m\u001b[38;5;241;43m=\u001b[39;49m\u001b[43mupdate_offsets\u001b[49m\u001b[43m)\u001b[49m\n\u001b[1;32m    656\u001b[0m     \u001b[38;5;28;01mif\u001b[39;00m records:\n\u001b[1;32m    657\u001b[0m         \u001b[38;5;28;01mreturn\u001b[39;00m records\n",
      "File \u001b[0;32m/opt/miniconda3/lib/python3.9/site-packages/kafka/consumer/group.py:702\u001b[0m, in \u001b[0;36mKafkaConsumer._poll_once\u001b[0;34m(self, timeout_ms, max_records, update_offsets)\u001b[0m\n\u001b[1;32m    699\u001b[0m     \u001b[38;5;28mself\u001b[39m\u001b[38;5;241m.\u001b[39m_client\u001b[38;5;241m.\u001b[39mpoll(timeout_ms\u001b[38;5;241m=\u001b[39m\u001b[38;5;241m0\u001b[39m)\n\u001b[1;32m    701\u001b[0m timeout_ms \u001b[38;5;241m=\u001b[39m \u001b[38;5;28mmin\u001b[39m(timeout_ms, \u001b[38;5;28mself\u001b[39m\u001b[38;5;241m.\u001b[39m_coordinator\u001b[38;5;241m.\u001b[39mtime_to_next_poll() \u001b[38;5;241m*\u001b[39m \u001b[38;5;241m1000\u001b[39m)\n\u001b[0;32m--> 702\u001b[0m \u001b[38;5;28;43mself\u001b[39;49m\u001b[38;5;241;43m.\u001b[39;49m\u001b[43m_client\u001b[49m\u001b[38;5;241;43m.\u001b[39;49m\u001b[43mpoll\u001b[49m\u001b[43m(\u001b[49m\u001b[43mtimeout_ms\u001b[49m\u001b[38;5;241;43m=\u001b[39;49m\u001b[43mtimeout_ms\u001b[49m\u001b[43m)\u001b[49m\n\u001b[1;32m    703\u001b[0m \u001b[38;5;66;03m# after the long poll, we should check whether the group needs to rebalance\u001b[39;00m\n\u001b[1;32m    704\u001b[0m \u001b[38;5;66;03m# prior to returning data so that the group can stabilize faster\u001b[39;00m\n\u001b[1;32m    705\u001b[0m \u001b[38;5;28;01mif\u001b[39;00m \u001b[38;5;28mself\u001b[39m\u001b[38;5;241m.\u001b[39m_coordinator\u001b[38;5;241m.\u001b[39mneed_rejoin():\n",
      "File \u001b[0;32m/opt/miniconda3/lib/python3.9/site-packages/kafka/client_async.py:602\u001b[0m, in \u001b[0;36mKafkaClient.poll\u001b[0;34m(self, timeout_ms, future)\u001b[0m\n\u001b[1;32m    599\u001b[0m             timeout \u001b[38;5;241m=\u001b[39m \u001b[38;5;28mmin\u001b[39m(timeout, \u001b[38;5;28mself\u001b[39m\u001b[38;5;241m.\u001b[39mconfig[\u001b[38;5;124m'\u001b[39m\u001b[38;5;124mretry_backoff_ms\u001b[39m\u001b[38;5;124m'\u001b[39m])\n\u001b[1;32m    600\u001b[0m         timeout \u001b[38;5;241m=\u001b[39m \u001b[38;5;28mmax\u001b[39m(\u001b[38;5;241m0\u001b[39m, timeout)  \u001b[38;5;66;03m# avoid negative timeouts\u001b[39;00m\n\u001b[0;32m--> 602\u001b[0m     \u001b[38;5;28;43mself\u001b[39;49m\u001b[38;5;241;43m.\u001b[39;49m\u001b[43m_poll\u001b[49m\u001b[43m(\u001b[49m\u001b[43mtimeout\u001b[49m\u001b[43m \u001b[49m\u001b[38;5;241;43m/\u001b[39;49m\u001b[43m \u001b[49m\u001b[38;5;241;43m1000\u001b[39;49m\u001b[43m)\u001b[49m\n\u001b[1;32m    604\u001b[0m \u001b[38;5;66;03m# called without the lock to avoid deadlock potential\u001b[39;00m\n\u001b[1;32m    605\u001b[0m \u001b[38;5;66;03m# if handlers need to acquire locks\u001b[39;00m\n\u001b[1;32m    606\u001b[0m responses\u001b[38;5;241m.\u001b[39mextend(\u001b[38;5;28mself\u001b[39m\u001b[38;5;241m.\u001b[39m_fire_pending_completed_requests())\n",
      "File \u001b[0;32m/opt/miniconda3/lib/python3.9/site-packages/kafka/client_async.py:634\u001b[0m, in \u001b[0;36mKafkaClient._poll\u001b[0;34m(self, timeout)\u001b[0m\n\u001b[1;32m    631\u001b[0m \u001b[38;5;28mself\u001b[39m\u001b[38;5;241m.\u001b[39m_register_send_sockets()\n\u001b[1;32m    633\u001b[0m start_select \u001b[38;5;241m=\u001b[39m time\u001b[38;5;241m.\u001b[39mtime()\n\u001b[0;32m--> 634\u001b[0m ready \u001b[38;5;241m=\u001b[39m \u001b[38;5;28;43mself\u001b[39;49m\u001b[38;5;241;43m.\u001b[39;49m\u001b[43m_selector\u001b[49m\u001b[38;5;241;43m.\u001b[39;49m\u001b[43mselect\u001b[49m\u001b[43m(\u001b[49m\u001b[43mtimeout\u001b[49m\u001b[43m)\u001b[49m\n\u001b[1;32m    635\u001b[0m end_select \u001b[38;5;241m=\u001b[39m time\u001b[38;5;241m.\u001b[39mtime()\n\u001b[1;32m    636\u001b[0m \u001b[38;5;28;01mif\u001b[39;00m \u001b[38;5;28mself\u001b[39m\u001b[38;5;241m.\u001b[39m_sensors:\n",
      "File \u001b[0;32m/opt/miniconda3/lib/python3.9/selectors.py:562\u001b[0m, in \u001b[0;36mKqueueSelector.select\u001b[0;34m(self, timeout)\u001b[0m\n\u001b[1;32m    560\u001b[0m ready \u001b[38;5;241m=\u001b[39m []\n\u001b[1;32m    561\u001b[0m \u001b[38;5;28;01mtry\u001b[39;00m:\n\u001b[0;32m--> 562\u001b[0m     kev_list \u001b[38;5;241m=\u001b[39m \u001b[38;5;28;43mself\u001b[39;49m\u001b[38;5;241;43m.\u001b[39;49m\u001b[43m_selector\u001b[49m\u001b[38;5;241;43m.\u001b[39;49m\u001b[43mcontrol\u001b[49m\u001b[43m(\u001b[49m\u001b[38;5;28;43;01mNone\u001b[39;49;00m\u001b[43m,\u001b[49m\u001b[43m \u001b[49m\u001b[43mmax_ev\u001b[49m\u001b[43m,\u001b[49m\u001b[43m \u001b[49m\u001b[43mtimeout\u001b[49m\u001b[43m)\u001b[49m\n\u001b[1;32m    563\u001b[0m \u001b[38;5;28;01mexcept\u001b[39;00m \u001b[38;5;167;01mInterruptedError\u001b[39;00m:\n\u001b[1;32m    564\u001b[0m     \u001b[38;5;28;01mreturn\u001b[39;00m ready\n",
      "\u001b[0;31mKeyboardInterrupt\u001b[0m: "
     ]
    }
   ],
   "source": [
    "for count, i in enumerate(consumer):\n",
    "    print(count)\n",
    "    print(i.value)\n",
    "\n",
    "    with s3.open(\"s3://rapo-kafka-stock-market-project/record-{}.json\".format(count), 'w') as file:\n",
    "        json.dump(i.value, file)"
   ]
  },
  {
   "cell_type": "code",
   "execution_count": null,
   "id": "e087b950",
   "metadata": {},
   "outputs": [],
   "source": []
  }
 ],
 "metadata": {
  "kernelspec": {
   "display_name": "Python 3 (ipykernel)",
   "language": "python",
   "name": "python3"
  },
  "language_info": {
   "codemirror_mode": {
    "name": "ipython",
    "version": 3
   },
   "file_extension": ".py",
   "mimetype": "text/x-python",
   "name": "python",
   "nbconvert_exporter": "python",
   "pygments_lexer": "ipython3",
   "version": "3.9.15"
  }
 },
 "nbformat": 4,
 "nbformat_minor": 5
}
