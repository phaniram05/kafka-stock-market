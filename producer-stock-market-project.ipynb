{
 "cells": [
  {
   "cell_type": "code",
   "execution_count": 1,
   "id": "60ffbfeb",
   "metadata": {},
   "outputs": [],
   "source": [
    "# !pip install kafka-python"
   ]
  },
  {
   "cell_type": "code",
   "execution_count": 2,
   "id": "c0f40ceb",
   "metadata": {},
   "outputs": [],
   "source": [
    "import pandas as pd\n",
    "from kafka import KafkaProducer, KafkaConsumer\n",
    "from time import sleep\n",
    "from json import dumps\n",
    "import json\n",
    "import time"
   ]
  },
  {
   "cell_type": "code",
   "execution_count": 3,
   "id": "6a04af41",
   "metadata": {},
   "outputs": [],
   "source": [
    "producer = KafkaProducer(bootstrap_servers=['18.234.40.54:9092'],\n",
    "                         value_serializer = lambda x:dumps(x).encode('utf-8'))"
   ]
  },
  {
   "cell_type": "code",
   "execution_count": 4,
   "id": "fa65c373",
   "metadata": {},
   "outputs": [
    {
     "data": {
      "text/plain": [
       "<kafka.producer.future.FutureRecordMetadata at 0x10621efa0>"
      ]
     },
     "execution_count": 4,
     "metadata": {},
     "output_type": "execute_result"
    }
   ],
   "source": [
    "producer.send('stock_market_data', \n",
    "              value = \"This data is coming from code file\")\n"
   ]
  },
  {
   "cell_type": "code",
   "execution_count": 5,
   "id": "7e93d2be",
   "metadata": {},
   "outputs": [],
   "source": [
    "stock_df = pd.read_csv(\"indexProcessed.csv\")"
   ]
  },
  {
   "cell_type": "code",
   "execution_count": 6,
   "id": "3585bc20",
   "metadata": {},
   "outputs": [
    {
     "data": {
      "text/html": [
       "<div>\n",
       "<style scoped>\n",
       "    .dataframe tbody tr th:only-of-type {\n",
       "        vertical-align: middle;\n",
       "    }\n",
       "\n",
       "    .dataframe tbody tr th {\n",
       "        vertical-align: top;\n",
       "    }\n",
       "\n",
       "    .dataframe thead th {\n",
       "        text-align: right;\n",
       "    }\n",
       "</style>\n",
       "<table border=\"1\" class=\"dataframe\">\n",
       "  <thead>\n",
       "    <tr style=\"text-align: right;\">\n",
       "      <th></th>\n",
       "      <th>Index</th>\n",
       "      <th>Date</th>\n",
       "      <th>Open</th>\n",
       "      <th>High</th>\n",
       "      <th>Low</th>\n",
       "      <th>Close</th>\n",
       "      <th>Adj Close</th>\n",
       "      <th>Volume</th>\n",
       "      <th>CloseUSD</th>\n",
       "    </tr>\n",
       "  </thead>\n",
       "  <tbody>\n",
       "    <tr>\n",
       "      <th>0</th>\n",
       "      <td>HSI</td>\n",
       "      <td>1986-12-31</td>\n",
       "      <td>2568.300049</td>\n",
       "      <td>2568.300049</td>\n",
       "      <td>2568.300049</td>\n",
       "      <td>2568.300049</td>\n",
       "      <td>2568.300049</td>\n",
       "      <td>0.0</td>\n",
       "      <td>333.879006</td>\n",
       "    </tr>\n",
       "    <tr>\n",
       "      <th>1</th>\n",
       "      <td>HSI</td>\n",
       "      <td>1987-01-02</td>\n",
       "      <td>2540.100098</td>\n",
       "      <td>2540.100098</td>\n",
       "      <td>2540.100098</td>\n",
       "      <td>2540.100098</td>\n",
       "      <td>2540.100098</td>\n",
       "      <td>0.0</td>\n",
       "      <td>330.213013</td>\n",
       "    </tr>\n",
       "    <tr>\n",
       "      <th>2</th>\n",
       "      <td>HSI</td>\n",
       "      <td>1987-01-05</td>\n",
       "      <td>2552.399902</td>\n",
       "      <td>2552.399902</td>\n",
       "      <td>2552.399902</td>\n",
       "      <td>2552.399902</td>\n",
       "      <td>2552.399902</td>\n",
       "      <td>0.0</td>\n",
       "      <td>331.811987</td>\n",
       "    </tr>\n",
       "    <tr>\n",
       "      <th>3</th>\n",
       "      <td>HSI</td>\n",
       "      <td>1987-01-06</td>\n",
       "      <td>2583.899902</td>\n",
       "      <td>2583.899902</td>\n",
       "      <td>2583.899902</td>\n",
       "      <td>2583.899902</td>\n",
       "      <td>2583.899902</td>\n",
       "      <td>0.0</td>\n",
       "      <td>335.906987</td>\n",
       "    </tr>\n",
       "    <tr>\n",
       "      <th>4</th>\n",
       "      <td>HSI</td>\n",
       "      <td>1987-01-07</td>\n",
       "      <td>2607.100098</td>\n",
       "      <td>2607.100098</td>\n",
       "      <td>2607.100098</td>\n",
       "      <td>2607.100098</td>\n",
       "      <td>2607.100098</td>\n",
       "      <td>0.0</td>\n",
       "      <td>338.923013</td>\n",
       "    </tr>\n",
       "  </tbody>\n",
       "</table>\n",
       "</div>"
      ],
      "text/plain": [
       "  Index        Date         Open         High          Low        Close  \\\n",
       "0   HSI  1986-12-31  2568.300049  2568.300049  2568.300049  2568.300049   \n",
       "1   HSI  1987-01-02  2540.100098  2540.100098  2540.100098  2540.100098   \n",
       "2   HSI  1987-01-05  2552.399902  2552.399902  2552.399902  2552.399902   \n",
       "3   HSI  1987-01-06  2583.899902  2583.899902  2583.899902  2583.899902   \n",
       "4   HSI  1987-01-07  2607.100098  2607.100098  2607.100098  2607.100098   \n",
       "\n",
       "     Adj Close  Volume    CloseUSD  \n",
       "0  2568.300049     0.0  333.879006  \n",
       "1  2540.100098     0.0  330.213013  \n",
       "2  2552.399902     0.0  331.811987  \n",
       "3  2583.899902     0.0  335.906987  \n",
       "4  2607.100098     0.0  338.923013  "
      ]
     },
     "execution_count": 6,
     "metadata": {},
     "output_type": "execute_result"
    }
   ],
   "source": [
    "stock_df.head()"
   ]
  },
  {
   "cell_type": "code",
   "execution_count": 7,
   "id": "f95ea2f2",
   "metadata": {},
   "outputs": [
    {
     "data": {
      "text/plain": [
       "(104224, 9)"
      ]
     },
     "execution_count": 7,
     "metadata": {},
     "output_type": "execute_result"
    }
   ],
   "source": [
    "stock_df.shape"
   ]
  },
  {
   "cell_type": "code",
   "execution_count": 8,
   "id": "a961932d",
   "metadata": {},
   "outputs": [
    {
     "data": {
      "text/plain": [
       "{'Index': {83534: 'GDAXI'},\n",
       " 'Date': {83534: '2002-06-21'},\n",
       " 'Open': {83534: 4244.240234},\n",
       " 'High': {83534: 4312.120117},\n",
       " 'Low': {83534: 4153.310059},\n",
       " 'Close': {83534: 4232.399902},\n",
       " 'Adj Close': {83534: 4232.399902},\n",
       " 'Volume': {83534: 300672400.0},\n",
       " 'CloseUSD': {83534: 5163.52788044}}"
      ]
     },
     "execution_count": 8,
     "metadata": {},
     "output_type": "execute_result"
    }
   ],
   "source": [
    "stock_df.sample(1).to_dict()"
   ]
  },
  {
   "cell_type": "code",
   "execution_count": 9,
   "id": "9e98cad6",
   "metadata": {},
   "outputs": [
    {
     "data": {
      "text/plain": [
       "[{'Index': 'HSI',\n",
       "  'Date': '2013-01-07',\n",
       "  'Open': 23345.19922,\n",
       "  'High': 23402.44922,\n",
       "  'Low': 23254.23047,\n",
       "  'Close': 23329.75,\n",
       "  'Adj Close': 23329.75,\n",
       "  'Volume': 1401515000.0,\n",
       "  'CloseUSD': 3032.8675000000003},\n",
       " {'Index': 'IXIC',\n",
       "  'Date': '2005-02-09',\n",
       "  'Open': 2088.52002,\n",
       "  'High': 2089.379883,\n",
       "  'Low': 2051.0,\n",
       "  'Close': 2052.550049,\n",
       "  'Adj Close': 2052.550049,\n",
       "  'Volume': 1958810000.0,\n",
       "  'CloseUSD': 2052.550049},\n",
       " {'Index': 'NYA',\n",
       "  'Date': '1994-09-13',\n",
       "  'Open': 2726.330078,\n",
       "  'High': 2726.330078,\n",
       "  'Low': 2726.330078,\n",
       "  'Close': 2726.330078,\n",
       "  'Adj Close': 2726.330078,\n",
       "  'Volume': 0.0,\n",
       "  'CloseUSD': 2726.330078},\n",
       " {'Index': '399001.SZ',\n",
       "  'Date': '2005-04-01',\n",
       "  'Open': 3168.780029,\n",
       "  'High': 3327.350098,\n",
       "  'Low': 3153.629883,\n",
       "  'Close': 3284.949951,\n",
       "  'Adj Close': 3284.913086,\n",
       "  'Volume': 25900.0,\n",
       "  'CloseUSD': 525.59199216},\n",
       " {'Index': 'NYA',\n",
       "  'Date': '1982-04-14',\n",
       "  'Open': 704.950012,\n",
       "  'High': 704.950012,\n",
       "  'Low': 704.950012,\n",
       "  'Close': 704.950012,\n",
       "  'Adj Close': 704.950012,\n",
       "  'Volume': 0.0,\n",
       "  'CloseUSD': 704.950012}]"
      ]
     },
     "execution_count": 9,
     "metadata": {},
     "output_type": "execute_result"
    }
   ],
   "source": [
    "stock_df.sample(5).to_dict(orient = \"records\")"
   ]
  },
  {
   "cell_type": "code",
   "execution_count": 10,
   "id": "0947e5bf",
   "metadata": {},
   "outputs": [],
   "source": [
    "try:\n",
    "    while True:\n",
    "        record = stock_df.sample(1).to_dict(orient = \"records\")\n",
    "        producer.send('topic_name', value = record)\n",
    "\n",
    "        # Delays producing the data by 20 seconds.\n",
    "        time.sleep(10)\n",
    "\n",
    "except KeyboardInterrupt:\n",
    "    producer.close()"
   ]
  },
  {
   "cell_type": "code",
   "execution_count": 12,
   "id": "cd55251d",
   "metadata": {},
   "outputs": [],
   "source": [
    "producer.flush()"
   ]
  },
  {
   "cell_type": "code",
   "execution_count": null,
   "id": "0bc4adc9",
   "metadata": {},
   "outputs": [],
   "source": []
  }
 ],
 "metadata": {
  "kernelspec": {
   "display_name": "Python 3 (ipykernel)",
   "language": "python",
   "name": "python3"
  },
  "language_info": {
   "codemirror_mode": {
    "name": "ipython",
    "version": 3
   },
   "file_extension": ".py",
   "mimetype": "text/x-python",
   "name": "python",
   "nbconvert_exporter": "python",
   "pygments_lexer": "ipython3",
   "version": "3.9.15"
  }
 },
 "nbformat": 4,
 "nbformat_minor": 5
}
